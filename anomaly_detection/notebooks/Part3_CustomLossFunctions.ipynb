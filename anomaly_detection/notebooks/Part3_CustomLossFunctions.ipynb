{
 "cells": [
  {
   "cell_type": "markdown",
   "id": "8e11df29-6653-44a8-b401-3bbc9ab4765c",
   "metadata": {},
   "source": [
    "## Part 3. Custom Loss Functions\n",
    "#### Alex Gagliano (gaglian2@mit.edu), IAIFI - January 8th, 2024"
   ]
  },
  {
   "cell_type": "markdown",
   "id": "2dda5d93-ff21-4d4e-a637-55ccf6e834e3",
   "metadata": {},
   "source": [
    "In the previous section we looked into some way to extract meaningful features (both physical and non-physical) that describe our data instances, with the hope of manually identifying anomalies in the reduced-dimensionality space as as downstream task. Can we play games with our loss function to find better anomalies? "
   ]
  },
  {
   "cell_type": "markdown",
   "id": "bbc2abc7-ba55-45d9-a726-6a26d1e1b877",
   "metadata": {},
   "source": [
    "The most straightforward way to do this is to modify our variational autoencoder from the previous section. To force the prediction of the kinds of anomalies that we're looking for, we can tack on a feed-forward layer to our VAE that squeezes the latent vector $z$ into a single number, which we'll call our anomaly score. Then, we can modify our loss function to take an additional term that guides the score toward anomaly scores from our labeled training set. Here's how that looks in practice: "
   ]
  },
  {
   "cell_type": "code",
   "execution_count": 188,
   "id": "eb8579ba-7ca1-4f72-b234-e0ba219b5e84",
   "metadata": {},
   "outputs": [],
   "source": [
    "import torch\n",
    "from torch import nn\n",
    "from torch.nn.utils.rnn import pack_padded_sequence, pad_packed_sequence\n",
    "from torch.nn import functional as F\n",
    "from IPython.display import Image\n",
    "import pandas as pd\n",
    "import matplotlib.pyplot as plt\n",
    "import numpy as np"
   ]
  },
  {
   "cell_type": "code",
   "execution_count": 119,
   "id": "1c4a3e49-d83d-4a84-bd3b-79b0201d2459",
   "metadata": {},
   "outputs": [],
   "source": [
    "device = torch.device(\"cuda:0\" if torch.cuda.is_available() else \"cpu\")\n",
    "\n",
    "# 99% the same network as before - the only thing that's changing is the few anomaly terms. \n",
    "class Encoder(nn.Module):\n",
    "    def __init__(self, input_size=7, hidden_size=400, num_layers=4, dropout=0.2):\n",
    "        super(Encoder, self).__init__()\n",
    "        self.hidden_size = hidden_size\n",
    "        self.num_layers = num_layers\n",
    "        self.gru = nn.GRU(\n",
    "            input_size,\n",
    "            hidden_size,\n",
    "            num_layers,\n",
    "            dropout=dropout,\n",
    "            batch_first=True\n",
    "        )\n",
    "\n",
    "    def forward(self, x, lengths):\n",
    "        # x: tensor of shape (batch_size, seq_length, input_size)\n",
    "        # lengths: tensor of shape (batch_size), containing the lengths of each sequence in the batch\n",
    "\n",
    "        packed_x = pack_padded_sequence(x, lengths, batch_first=True, enforce_sorted=False)\n",
    "        packed_output, hidden = self.gru(packed_x)\n",
    "        output, _ = pad_packed_sequence(packed_output, batch_first=True)\n",
    "        return output, hidden\n",
    "\n",
    "class Decoder(nn.Module):\n",
    "    def __init__(\n",
    "        self, input_size=7, hidden_size=400, output_size=4, num_layers=4, dropout=0.2\n",
    "    ):\n",
    "        super(Decoder, self).__init__()\n",
    "        self.hidden_size = hidden_size\n",
    "        self.output_size = output_size\n",
    "        self.num_layers = num_layers\n",
    "        self.gru = nn.GRU(\n",
    "            input_size,\n",
    "            hidden_size,\n",
    "            num_layers,\n",
    "            dropout=dropout,\n",
    "            batch_first=True\n",
    "        )\n",
    "        self.fc = nn.Linear(hidden_size, output_size)\n",
    "\n",
    "    def forward(self, x, hidden, lengths=None):\n",
    "        if lengths is not None:\n",
    "            packed_x = pack_padded_sequence(x, lengths, batch_first=True, enforce_sorted=False)\n",
    "            packed_output, hidden = self.gru(packed_x, hidden)\n",
    "            output, _ = pad_packed_sequence(packed_output, batch_first=True)\n",
    "        else:\n",
    "            output, hidden = self.gru(x, hidden)\n",
    "        prediction = self.fc(output)\n",
    "        return prediction, hidden\n",
    "\n",
    "class anomaly_RNN_VAE(nn.Module):\n",
    "    \"\"\"RNN-VAE with added anomaly scorer!\"\"\"\n",
    "\n",
    "    def __init__(\n",
    "        self, input_size=7, hidden_size=400, latent_size=50, anomaly_latent_size=20, dropout=0.2\n",
    "    ):\n",
    "        \"\"\"\n",
    "        input_size: int, batch_size x sequence_length x input_dim\n",
    "        hidden_size: int, output size \n",
    "        latent_size: int, latent z-layer size\n",
    "        num_gru_layer: int, number of layers\n",
    "        \"\"\"\n",
    "        super(anomaly_RNN_VAE, self).__init__()\n",
    "        self.device = device\n",
    "\n",
    "        # dimensions\n",
    "        self.input_size = input_size\n",
    "        self.hidden_size = hidden_size\n",
    "        self.latent_size = latent_size\n",
    "        self.anomaly_latent_size = anomaly_latent_size\n",
    "        self.num_layers = 4\n",
    "        self.dropout = dropout\n",
    "        \n",
    "        self.enc = Encoder(input_size=input_size, hidden_size=hidden_size, num_layers=self.num_layers, dropout=self.dropout)\n",
    "        \n",
    "        self.dec = Decoder(\n",
    "            input_size=latent_size,\n",
    "            output_size=input_size,\n",
    "            hidden_size=hidden_size,\n",
    "            dropout=self.dropout,\n",
    "            num_layers=self.num_layers,\n",
    "        )\n",
    "\n",
    "        self.fc21 = nn.Linear(self.hidden_size, self.latent_size)\n",
    "        self.fc22 = nn.Linear(self.hidden_size, self.latent_size)\n",
    "        self.fc3 = nn.Linear(self.latent_size, self.hidden_size)\n",
    "\n",
    "        # THE ONLY NEW PIECE - a small feedforward network.\n",
    "        self.fc1_anomaly = nn.Linear(self.latent_size, self.anomaly_latent_size)\n",
    "        self.fc2_anomaly = nn.Linear(self.anomaly_latent_size, 1)\n",
    "\n",
    "    def reparameterize(self, mu, logvar):\n",
    "        if self.training:\n",
    "            return mu + torch.randn(mu.shape).to(device)*torch.exp(0.5*logvar)\n",
    "        else:\n",
    "            return mu\n",
    "\n",
    "    def forward(self, x, lengths):\n",
    "        batch_size, seq_len, feature_dim = x.shape\n",
    "    \n",
    "        enc_output, enc_hidden = self.enc(x, lengths)\n",
    "    \n",
    "        enc_h = enc_hidden[-1].to(device)  \n",
    "    \n",
    "        mu = self.fc21(enc_h)\n",
    "        logvar = self.fc22(enc_h)\n",
    "        z = self.reparameterize(mu, logvar)\n",
    "\n",
    "        #use the feed-forward network to calculate a single anomaly score from the latent vector.\n",
    "        anomaly_score = self.fc2_anomaly(self.fc1_anomaly(z)).squeeze()\n",
    "        \n",
    "        h_ = self.fc3(z)\n",
    "        h_ = h_.unsqueeze(0)  \n",
    "        h_ = h_.repeat(self.dec.num_layers, 1, 1) \n",
    " \n",
    "        z = z.repeat(1, seq_len, 1)\n",
    "        z = z.view(batch_size, seq_len, self.latent_size).to(device)\n",
    "        \n",
    "        hidden = h_.contiguous()\n",
    "        x_hat, hidden = self.dec(z, hidden)\n",
    "    \n",
    "        return x_hat, mu, logvar, anomaly_score\n",
    "\n",
    "def anomaly_ELBO(x_hat, x, mu, logvar, anomaly_score, y):\n",
    "    MSE = torch.nn.MSELoss(reduction='sum')(x_hat, x)\n",
    "    KLD = -0.5 * torch.sum(1 + logvar - mu.pow(2) - logvar.exp())\n",
    "    #loss term to guide the anomaly score\n",
    "    lam = 1.e5 #fine-tuned\n",
    "    anomaly_loss = lam*torch.nn.MSELoss(reduction='sum')(anomaly_score, y)\n",
    "    #print(\"anomaly loss is:\", anomaly_loss)\n",
    "    #print(\"MSE loss is:\", MSE)\n",
    "    return MSE + KLD + anomaly_loss"
   ]
  },
  {
   "cell_type": "markdown",
   "id": "3bbd7ae1-af6b-4c63-80e2-440374c7bfe9",
   "metadata": {},
   "source": [
    "We'll caution that in practice, when adding in custom loss terms, it's common to modulate their strength with tuned coefficients so that your model doesn't only learn e.g., anomaly scoring without creating good light curve representations. But let's start there. Next, we need a training set. Here are my proposed anomaly scores for events in the training set, based on what I'm excited to discover in data from the Vera C. Rubin Observatory."
   ]
  },
  {
   "cell_type": "code",
   "execution_count": 219,
   "id": "276b6c9d-54f1-4e5b-a82e-342969329c2e",
   "metadata": {},
   "outputs": [],
   "source": [
    "#proposed dictionary mapping of anomaly scores, from above \n",
    "anomaly_dict = {90:0.1,  #SNIa\n",
    "                67:0.2,  #SNIa-91bg\n",
    "                52:0.2,  #SNIax\n",
    "                42:0.1,  #SNII\n",
    "                62:0.5,  #SNIbc\n",
    "                95:0.5, #SLSN-I\n",
    "                15:0.3,  #TDE\n",
    "                64:1.,    #KN\n",
    "                88:0.0,  #AGN\n",
    "                92:0.3,  #RRL\n",
    "                65:0.3,  #M-dwarf\n",
    "                16:0.0,  #EB\n",
    "                53:0.5,  #Mira\n",
    "                6:1.} #muLens-Single"
   ]
  },
  {
   "cell_type": "markdown",
   "id": "cb9d0f0d-a526-473f-bed2-bd90a0fc8a5a",
   "metadata": {},
   "source": [
    "As before, let's pre-process our datasets and train our model. "
   ]
  },
  {
   "cell_type": "code",
   "execution_count": 220,
   "id": "cce0e452-227e-458b-9d61-7e9bd3691801",
   "metadata": {},
   "outputs": [],
   "source": [
    "labeled_dataset = pd.read_csv(\"plasticc_train_lightcurves.csv\")\n",
    "labeled_dataset_detected = labeled_dataset[labeled_dataset['detected_bool'] == True]\n",
    "labeled_metadata =  pd.read_csv(\"plasticc_train_metadata.csv\")\n",
    "labeled_metadata['anomaly_score'] = labeled_metadata['true_target'].map(anomaly_dict)\n",
    "\n",
    "lcs_train = labeled_dataset_detected.sample(frac=0.8)\n",
    "lcs_val = labeled_dataset_detected[~labeled_dataset_detected['object_id'].isin(lcs_train['object_id'])]\n",
    "lcs_test = pd.read_csv(\"plasticc_test_lightcurves_01.csv\")\n",
    "\n",
    "dftest_metadata = pd.read_csv(\"./plasticc_test_metadata.csv\")\n",
    "lcs_train_wMetadata = lcs_train.merge(labeled_metadata)\n",
    "lcs_val_wMetadata = lcs_val.merge(labeled_metadata)\n",
    "\n",
    "lcs_test = pd.read_csv(\"plasticc_test_lightcurves_02.csv\")\n",
    "lcs_test_detected = lcs_test[lcs_test['detected_bool'] == True]\n",
    "lcs_test_wMetadata = lcs_test_detected.merge(dftest_metadata)"
   ]
  },
  {
   "cell_type": "code",
   "execution_count": 221,
   "id": "8189f36c-5027-4e94-849a-3ee23c61fa2d",
   "metadata": {},
   "outputs": [],
   "source": [
    "from collections import Counter\n",
    "\n",
    "def preprocess_lcs(df, set='train'):\n",
    "    zpt = 27.5 #the zeropoint of the survey\n",
    "    df = df[df['flux'] > 0].copy(deep=True) #subset to only positive fluxes\n",
    "\n",
    "    df.loc[df['hostgal_photoz'] == 0, 'distmod'] = 28 #correponding to a redshift of ~0.001\n",
    "    df['absolute_mag'] = zpt - 2.5*np.log10(df['flux'].values) - df['distmod']\n",
    "    df['absolute_mag'] = -df['absolute_mag'] #flip the sign, so that magnitudes increase for brighter events\n",
    "    #this is an annoying aspect of astronomy...\n",
    "    df['mag_err'] = np.clip(1.0857 * np.abs(df['flux_err'].values/df['flux'].values), a_min=0, a_max=1.0)\n",
    "\n",
    "    # Get the central wavelengths of each filter in microns\n",
    "    # 0-6 correspond to Rubin's ugrizY\n",
    "    central_wvs = {0:3.751, 1:4.741, 2:6.172, 3:7.501, 4:8.679, 5:9.712}\n",
    "    oids = np.unique(df['object_id'])\n",
    "\n",
    "    data = []\n",
    "    target_class = []\n",
    "    oids_used = []\n",
    "    anomaly_score = []\n",
    "    for oid in oids: \n",
    "        lc = df[df['object_id'] == oid].copy(deep=True)\n",
    "        lc['wv'] = lc['passband'].map(central_wvs)\n",
    "        lc['phase'] = lc['mjd'] - np.nanmin(lc['mjd'])\n",
    "        lc = lc[lc['phase'] < 50].copy(deep=True)\n",
    "        \n",
    "        if len(lc) > 100:\n",
    "            lc = lc.sample(100)\n",
    "            \n",
    "        data.append(lc[['phase', 'absolute_mag', 'mag_err', 'wv', 'mwebv', 'hostgal_photoz', 'hostgal_photoz_err']].values)\n",
    "        target_class.append(lc['true_target'].values[0])\n",
    "        if set != 'test':\n",
    "            anomaly_score.append(lc['anomaly_score'].values[0])\n",
    "        else:\n",
    "            #since we don't have anomaly scores for the test set (yet) \n",
    "            anomaly_score.append(-1)\n",
    "    return target_class, data, anomaly_score"
   ]
  },
  {
   "cell_type": "code",
   "execution_count": 222,
   "id": "8909ba4c-6b30-490e-a47d-fbbf81c0ddd8",
   "metadata": {},
   "outputs": [],
   "source": [
    "#this part might take a few minutes.\n",
    "train_labels, train_data, train_anomalyscore = preprocess_lcs(lcs_train_wMetadata, 'train')\n",
    "val_labels, val_data, val_anomalyscore = preprocess_lcs(lcs_val_wMetadata, 'val')\n",
    "test_labels, test_data, test_anomalyscore = preprocess_lcs(lcs_test_wMetadata, 'test')"
   ]
  },
  {
   "cell_type": "code",
   "execution_count": 223,
   "id": "b5d6e136-204a-4434-8230-898e0eeeeed7",
   "metadata": {},
   "outputs": [],
   "source": [
    "from torch.utils.data import DataLoader, Dataset\n",
    "from torch.nn.utils.rnn import pad_sequence\n",
    "\n",
    "def collate_fn(batch):\n",
    "    data, targets, anomaly_scores, lengths = zip(*batch)\n",
    "\n",
    "    # Convert sequences to tensors and pad them\n",
    "    sequences = [torch.tensor(d, dtype=torch.float32) for d in data]\n",
    "    padded_sequences = pad_sequence(sequences, batch_first=True)\n",
    "\n",
    "    # Convert other data to tensors\n",
    "    anomaly_scores = torch.tensor(anomaly_scores, dtype=torch.float32)\n",
    "    targets = torch.tensor(targets, dtype=torch.float32)\n",
    "    lengths = torch.tensor(lengths)\n",
    "\n",
    "    return padded_sequences, targets, anomaly_scores, lengths\n",
    "    \n",
    "class LCDataset(Dataset):\n",
    "    def __init__(self, data, targets, anomaly_scores, transform=None):\n",
    "        self.data = data\n",
    "        self.targets = targets\n",
    "        self.anomaly_scores = anomaly_scores\n",
    "        self.lengths = [len(seq) for seq in data]\n",
    "        self.transform = transform\n",
    "        \n",
    "    def __getitem__(self, index):\n",
    "        data = self.data[index]\n",
    "        targets = self.targets[index]\n",
    "        anomaly_scores = self.anomaly_scores[index]\n",
    "        lengths = self.lengths[index]\n",
    "\n",
    "        if self.transform:\n",
    "            data = self.transform(data)\n",
    "\n",
    "        return data, targets, anomaly_scores, lengths\n",
    "\n",
    "    def __len__(self):\n",
    "        return len(self.data)"
   ]
  },
  {
   "cell_type": "code",
   "execution_count": 224,
   "id": "8960a374-1112-4d3c-b05e-45fc9ce0b99f",
   "metadata": {},
   "outputs": [],
   "source": [
    "train_ds = LCDataset(train_data, train_labels, train_anomalyscore)\n",
    "train_loader = DataLoader(\n",
    "    train_ds,\n",
    "    batch_size=32,\n",
    "    num_workers=0,\n",
    "    shuffle=True,\n",
    "    collate_fn=collate_fn,\n",
    "    pin_memory=torch.cuda.is_available()\n",
    ")\n",
    "\n",
    "val_ds = LCDataset(val_data, val_labels, val_anomalyscore)\n",
    "val_loader = DataLoader(\n",
    "    val_ds,\n",
    "    batch_size=32,\n",
    "    num_workers=0,\n",
    "    shuffle=True,\n",
    "    collate_fn=collate_fn,\n",
    "    pin_memory=torch.cuda.is_available()\n",
    ")\n",
    "\n",
    "\n",
    "test_ds = LCDataset(test_data, test_labels, test_anomalyscore)\n",
    "test_loader = DataLoader(\n",
    "    test_ds,\n",
    "    batch_size=32,\n",
    "    num_workers=0,\n",
    "    shuffle=True,\n",
    "    collate_fn=collate_fn,\n",
    "    pin_memory=torch.cuda.is_available()\n",
    ")"
   ]
  },
  {
   "cell_type": "code",
   "execution_count": 225,
   "id": "d4f8244b-8151-413e-a20d-eafe17677a6e",
   "metadata": {
    "scrolled": true
   },
   "outputs": [
    {
     "name": "stdout",
     "output_type": "stream",
     "text": [
      "Beginning training of anomaly scorer...\n",
      " Epoch 0 | Train: 11882.25 | Valid: 8596.05\n",
      " Epoch 1 | Train: 6663.39 | Valid: 8241.62\n",
      " Epoch 2 | Train: 6267.22 | Valid: 7717.61\n",
      " Epoch 3 | Train: 6135.77 | Valid: 7297.96\n",
      " Epoch 4 | Train: 6071.22 | Valid: 7718.83\n",
      " Epoch 5 | Train: 5963.96 | Valid: 7074.75\n",
      " Epoch 6 | Train: 5962.98 | Valid: 7586.00\n",
      " Epoch 7 | Train: 5892.65 | Valid: 6272.09\n",
      " Epoch 8 | Train: 5856.73 | Valid: 6699.25\n",
      " Epoch 9 | Train: 5793.68 | Valid: 6233.16\n"
     ]
    }
   ],
   "source": [
    "model = anomaly_RNN_VAE()\n",
    "model.to(device)\n",
    "\n",
    "optimizer = torch.optim.Adam(model.parameters(),lr=1.e-4)\n",
    "\n",
    "#iterate through 10 training epochs\n",
    "validation_losses = []\n",
    "training_losses = []\n",
    "\n",
    "nepochs = 10\n",
    "\n",
    "print(\"Beginning training of anomaly scorer...\")\n",
    "for epoch in range(0, nepochs):\n",
    "    # train\n",
    "    model.train()\n",
    "    train_loss = 0\n",
    "    for x, y, anomaly_score, lengths in train_loader:\n",
    "        x = x.to(device)\n",
    "        x_hat, mu, logvar, predicted_score = model(x, lengths)\n",
    "        loss = anomaly_ELBO(x_hat, x, mu, logvar, anomaly_score, predicted_score)\n",
    "        train_loss += loss.item()\n",
    "        optimizer.zero_grad()\n",
    "        loss.backward()\n",
    "\n",
    "        # clip gradients to keep them at a reasonable size\n",
    "        torch.nn.utils.clip_grad_norm_(model.parameters(), max_norm=1.0)\n",
    "        \n",
    "        optimizer.step()\n",
    "\n",
    "    # validate\n",
    "    with torch.no_grad():\n",
    "        model.eval()\n",
    "        valid_loss = 0\n",
    "        for x, y, anomaly_score, lengths in val_loader:\n",
    "            x = x.to(device)\n",
    "            x_hat, mu, logvar, predicted_score = model(x, lengths)\n",
    "            valid_loss += anomaly_ELBO(x_hat, x, mu, logvar, anomaly_score, predicted_score)\n",
    "\n",
    "    validation_losses.append(valid_loss / len(val_loader.dataset))\n",
    "    training_losses.append(train_loss / len(train_loader.dataset))\n",
    "\n",
    "    print(f' Epoch {epoch} | Train: {train_loss / len(train_loader.dataset):.2f} | Valid: {valid_loss / len(val_loader.dataset):.2f}')"
   ]
  },
  {
   "cell_type": "markdown",
   "id": "168500bd-83f8-48b2-bbaf-8c559c88c668",
   "metadata": {},
   "source": [
    "We've only trained for 10 epochs, but let's see how well we do on the validation set anyway. "
   ]
  },
  {
   "cell_type": "code",
   "execution_count": 226,
   "id": "6a9a7b56-ecfd-41b5-9e08-f04af4f0ec7a",
   "metadata": {},
   "outputs": [],
   "source": [
    "predicted_list = []\n",
    "anomaly_list = []\n",
    "\n",
    "with torch.no_grad():\n",
    "    model.eval()\n",
    "    valid_loss = 0\n",
    "    for x, y, anomaly_score, lengths in val_loader:\n",
    "        x = x.to(device)\n",
    "        x_hat, mu, logvar, predicted_score = model(x, lengths)\n",
    "        predicted_list.append(predicted_score)\n",
    "        anomaly_list.append(anomaly_score)\n",
    "\n",
    "anomaly_list = torch.cat(anomaly_list).cpu().numpy()\n",
    "predicted_list = torch.cat(predicted_list).cpu().numpy()"
   ]
  },
  {
   "cell_type": "code",
   "execution_count": 242,
   "id": "bf004f93-d477-40d2-a6c4-bee73ed0bbed",
   "metadata": {},
   "outputs": [
    {
     "data": {
      "image/png": "[encoded data removed]",
      "text/plain": [
       "<Figure size 640x480 with 1 Axes>"
      ]
     },
     "metadata": {},
     "output_type": "display_data"
    }
   ],
   "source": [
    "plt.plot(predicted_list, anomaly_list, 'o', mec='k')\n",
    "plt.xlabel(\"NN anomaly score\");\n",
    "plt.ylabel(\"Labeled anomaly score\");"
   ]
  },
  {
   "cell_type": "code",
   "execution_count": 244,
   "id": "5ffd25a1-22fb-4b0e-b43e-470a4c5d9a2d",
   "metadata": {},
   "outputs": [
    {
     "name": "stdout",
     "output_type": "stream",
     "text": [
      "0.78\n"
     ]
    }
   ],
   "source": [
    "# At least they're correlated! ...right? \n",
    "print(\"%.2f\"%np.corrcoef(predicted_list, anomaly_list)[0,1])"
   ]
  },
  {
   "cell_type": "code",
   "execution_count": 246,
   "id": "45ac8132-4c63-4a93-b160-026f6f6bd976",
   "metadata": {},
   "outputs": [],
   "source": [
    "# What is the anomaly score of events in our test set? \n",
    "score_list = []\n",
    "y_list = []\n",
    "\n",
    "with torch.no_grad():\n",
    "    model.eval()\n",
    "\n",
    "    for x, y, _, lengths in test_loader:\n",
    "        x = x.to(device)\n",
    "        x_hat, mu, logvar, score = model(x, lengths)        \n",
    "        score_list.append(score)\n",
    "        y_list.append(y)\n",
    "\n",
    "score_list = torch.cat(score_list).cpu().numpy()\n",
    "y_list = torch.cat(y_list).cpu().numpy()"
   ]
  },
  {
   "cell_type": "code",
   "execution_count": 255,
   "id": "50b89116-4d1b-4fa7-9e14-ca65214c35c7",
   "metadata": {},
   "outputs": [
    {
     "data": {
      "text/plain": [
       "Text(0, 0.5, 'Number of Transients')"
      ]
     },
     "execution_count": 255,
     "metadata": {},
     "output_type": "execute_result"
    },
    {
     "data": {
      "image/png": "[encoded data removed]",
      "text/plain": [
       "<Figure size 640x480 with 1 Axes>"
      ]
     },
     "metadata": {},
     "output_type": "display_data"
    }
   ],
   "source": [
    "#going conservative, let's look at the events with score > 0.2:\n",
    "plt.hist(score_list);\n",
    "plt.axvline(x=0.2, ls='--', zorder=10, c='k')\n",
    "plt.xlabel(\"NN Anomaly Score, Test Sample\")\n",
    "plt.ylabel(\"Number of Transients\")"
   ]
  },
  {
   "cell_type": "code",
   "execution_count": 262,
   "id": "23e3d6e0-6527-43fa-8b4a-e86915c75112",
   "metadata": {},
   "outputs": [
    {
     "name": "stdout",
     "output_type": "stream",
     "text": [
      "338271\n"
     ]
    }
   ],
   "source": [
    "print(len(y_names))"
   ]
  },
  {
   "cell_type": "code",
   "execution_count": 261,
   "id": "3a5d2338-80e5-4ff8-bc8e-24672b7a18b1",
   "metadata": {},
   "outputs": [
    {
     "data": {
      "text/plain": [
       "Counter({'SN Ia': 4967,\n",
       "         'SNII': 3699,\n",
       "         'RRL': 17766,\n",
       "         'M-dwarf': 6693,\n",
       "         'EB': 4647,\n",
       "         'SNIa-91bg': 584,\n",
       "         'SNIbc': 1751,\n",
       "         'muLens-Single': 101,\n",
       "         'AGN': 414,\n",
       "         'SLSN-I': 20,\n",
       "         'SNIax': 354,\n",
       "         'CaRT': 105,\n",
       "         'Mira': 135,\n",
       "         'muLens-Binary': 43,\n",
       "         'ILOT': 29,\n",
       "         'KN': 7,\n",
       "         'TDE': 16,\n",
       "         'PISN': 2})"
      ]
     },
     "execution_count": 261,
     "metadata": {},
     "output_type": "execute_result"
    }
   ],
   "source": [
    "y_names = np.vectorize(model_nums.get)(y_list)\n",
    "Counter(y_names[score_list > 0.2])"
   ]
  },
  {
   "cell_type": "markdown",
   "id": "c3c95767-7576-402d-9050-23f6fe83aaa4",
   "metadata": {},
   "source": [
    "What's really exciting is that, out of >338k total test events, we found 29/176 Intermediate-Luminosity Optical Transients (ILOTs), 105/953 Calcium-Rich Transients (CaRTs), 2/115 PISNe, and 43/44 binary microlensing events (muLens-Binary) that weren't present in the training set! Let's define an anomaly in this case as \n",
    "* Kilonovae and single-lens microlensing events from our training set (the two with the highest labeled anomaly scores), and \n",
    "* The four classes in the test set that aren't in the training set (ILOT, CaRT, PISN, and muLens-Binary).\n",
    " \n",
    "and compute some performance metrics. "
   ]
  },
  {
   "cell_type": "code",
   "execution_count": 270,
   "id": "678ab37c-02dd-4cca-bdad-cb23133e3807",
   "metadata": {},
   "outputs": [],
   "source": [
    "#performance metrics here\n",
    "pred_class = np.array(['Not Anomaly']*len(y_names))\n",
    "pred_class[score_list > 0.2] = 'Anomaly'\n",
    "\n",
    "true_class = np.array(['Not Anomaly']*len(y_names))\n",
    "true_class[np.isin(y_names, ['PISN', 'KN', 'ILOT', 'muLens-Binary', 'muLens-Single', 'CaRT'])] = 'Anomaly'"
   ]
  },
  {
   "cell_type": "code",
   "execution_count": 301,
   "id": "c0a4f55d-9c58-448d-a47b-a04cbc2a0407",
   "metadata": {},
   "outputs": [
    {
     "data": {
      "image/png": "[encoded data removed]",
      "text/plain": [
       "<Figure size 640x480 with 2 Axes>"
      ]
     },
     "metadata": {},
     "output_type": "display_data"
    }
   ],
   "source": [
    "from sklearn.metrics import confusion_matrix\n",
    "import seaborn as sns \n",
    "import pandas as pd \n",
    "\n",
    "labels = [\"Anomaly\", \"Non Anomaly\"]\n",
    "df = pd.DataFrame(confusion_matrix(true_class, pred_class, normalize='true'), index=labels, columns=labels)\n",
    "sns.set(font_scale=1.4) # for label size\n",
    "sns.heatmap(df, annot=True, annot_kws={\"size\": 16}, cmap='Blues');\n",
    "plt.ylabel(\"True Label\");\n",
    "plt.xlabel(\"Predicted Label\");"
   ]
  },
  {
   "cell_type": "markdown",
   "id": "a323b2ca-702b-4cc9-aa9a-31f153c0e164",
   "metadata": {},
   "source": [
    "The confusion matrix (above) gives us a better view of our performance than accuracy alone might. This tells us the completeness/recall of our method: we are correctly recovering 20% of anomalies (top left) and 88% of non-anomalies (bottom right). "
   ]
  },
  {
   "cell_type": "code",
   "execution_count": 303,
   "id": "49fd6425-b0ea-45d5-9566-3bcf6a9c7dcc",
   "metadata": {},
   "outputs": [
    {
     "data": {
      "image/png": "[encoded data removed]",
      "text/plain": [
       "<Figure size 640x480 with 2 Axes>"
      ]
     },
     "metadata": {},
     "output_type": "display_data"
    }
   ],
   "source": [
    "df = pd.DataFrame(confusion_matrix(true_class, pred_class, normalize='pred'), index=labels, columns=labels)\n",
    "sns.set(font_scale=1.4) # for label size\n",
    "sns.heatmap(df, annot=True, annot_kws={\"size\": 16}, cmap='Blues');\n",
    "plt.ylabel(\"True Label\");\n",
    "plt.xlabel(\"Predicted Label\");"
   ]
  },
  {
   "cell_type": "markdown",
   "id": "b5eef5e7-241e-4926-93a0-8f9f3a350206",
   "metadata": {},
   "source": [
    "This tells us the purity/precision of our samples - 99% of our labeled anomalies are not anomalies, which is...not great. This can also be seen in the performance metrics below:"
   ]
  },
  {
   "cell_type": "code",
   "execution_count": 318,
   "id": "c35a00c3-d072-4870-a83a-0ff233212c42",
   "metadata": {},
   "outputs": [
    {
     "name": "stdout",
     "output_type": "stream",
     "text": [
      "              precision    recall  f1-score   support\n",
      "\n",
      "     Anomaly       0.01      0.20      0.01      1400\n",
      " Not Anomaly       1.00      0.88      0.93    336871\n",
      "\n",
      "    accuracy                           0.88    338271\n",
      "   macro avg       0.50      0.54      0.47    338271\n",
      "weighted avg       0.99      0.88      0.93    338271\n",
      "\n"
     ]
    }
   ],
   "source": [
    "import sklearn \n",
    "\n",
    "print(sklearn.metrics.classification_report(true_class, pred_class))"
   ]
  },
  {
   "cell_type": "markdown",
   "id": "7a3b08a2-dea1-420e-b639-02d616eb10dd",
   "metadata": {},
   "source": [
    "We saw from above that most of the events contaminating the anomalous sample were RR-Lyrae. We can change our scoring to rank them as less anomalous in the training set, train for longer, or find a way to augment the training set with additional anomalous events. See if you can do a bit better!"
   ]
  },
  {
   "cell_type": "markdown",
   "id": "4a691d0b-694d-4c63-af04-f65ebd0bb1c6",
   "metadata": {},
   "source": [
    "There are also more informed ways to incorporate our labels from the training set (without having to construct subjective anomaly scores). One technique that is increasingly employed in anomaly detection (and ML at large) is _contrastive learning_, in which the embedding space is guided to minimize the distance between similar events and maximize the distance between different events. A common loss is the _triplet loss_, where distances are considered between the _anchor_ (an event in question), a _negative_ (in this case, an event of a different class), and a _positive_ (an event of the same class). To make this work, we'll need a routine to split up a batch into these three categories: "
   ]
  },
  {
   "cell_type": "code",
   "execution_count": 199,
   "id": "d5f4c092-4ab5-440d-9d2f-a0824e124053",
   "metadata": {},
   "outputs": [],
   "source": [
    "import random \n",
    "\n",
    "def select_triplets(batch, labels):\n",
    "    anchors, positives, negatives = [], [], []\n",
    "\n",
    "    for i, anchor in enumerate(batch):\n",
    "        anchor_label = labels[i]\n",
    "\n",
    "        #if we fail, it'll be because we have no matching events within a batch. Remember, this is a highly imbalanced traininng dataset!\n",
    "        try:\n",
    "            # Positive: different instance, same label\n",
    "            positive = random.choice([b for j, b in enumerate(batch) if labels[j] == anchor_label and j != i])\n",
    "    \n",
    "            # Negative: any instance with a different label\n",
    "            negative = random.choice([b for j, b in enumerate(batch) if labels[j] != anchor_label])\n",
    "        except IndexError:\n",
    "            continue\n",
    "\n",
    "        anchors.append(anchor)\n",
    "        positives.append(positive)\n",
    "        negatives.append(negative)\n",
    "\n",
    "    return torch.stack(anchors), torch.stack(positives), torch.stack(negatives)"
   ]
  },
  {
   "cell_type": "markdown",
   "id": "0ec612a6-70bc-418b-b9d5-38ab1f83e5bc",
   "metadata": {},
   "source": [
    "Next, we'll need a custom loss function that incorporates the calculation of the distance between these triplets:"
   ]
  },
  {
   "cell_type": "code",
   "execution_count": 200,
   "id": "cc48366c-e0e2-4963-947f-ff30ee399050",
   "metadata": {},
   "outputs": [],
   "source": [
    "import torch.nn.functional as F\n",
    "\n",
    "def contrastive_elbo(x_hat, x, mu, logvar, anchors, positives, negatives):\n",
    "    \n",
    "    MSE = torch.nn.MSELoss(reduction='sum')(x_hat, x)\n",
    "    KLD = -0.5 * torch.sum(1 + logvar - mu.pow(2) - logvar.exp())\n",
    "\n",
    "    #loss to group similar phenomena\n",
    "    lam = 1. # custom weighting, unity for now\n",
    "    distance_positive = F.pairwise_distance(anchors, positives)\n",
    "    distance_negative = F.pairwise_distance(anchors, negatives)\n",
    "    margin = 0.01\n",
    "    contrastive_loss = F.relu(distance_positive - distance_negative + margin).mean()\n",
    "    \n",
    "    return MSE + KLD + lam*contrastive_loss"
   ]
  },
  {
   "cell_type": "markdown",
   "id": "e75a6903-c8ad-4f0c-b4da-b0d54b88f23b",
   "metadata": {},
   "source": [
    "As before, we'll define our RNN VAE:"
   ]
  },
  {
   "cell_type": "code",
   "execution_count": 201,
   "id": "2112f7c5-1dfd-47e0-b42d-9d3a6b7325fc",
   "metadata": {},
   "outputs": [],
   "source": [
    "class RNN_VAE(nn.Module):\n",
    "    \"\"\"Vanilla RNN-VAE\"\"\"\n",
    "\n",
    "    def __init__(\n",
    "        self, input_size=7, hidden_size=400, latent_size=50, dropout=0.2\n",
    "    ):\n",
    "        \"\"\"\n",
    "        input_size: int, batch_size x sequence_length x input_dim\n",
    "        hidden_size: int, output size \n",
    "        latent_size: int, latent z-layer size\n",
    "        num_gru_layer: int, number of layers\n",
    "        \"\"\"\n",
    "        super(anomaly_RNN_VAE, self).__init__()\n",
    "        self.device = device\n",
    "\n",
    "        # dimensions\n",
    "        self.input_size = input_size\n",
    "        self.hidden_size = hidden_size\n",
    "        self.latent_size = latent_size\n",
    "        self.num_layers = 4\n",
    "        self.dropout = dropout\n",
    "        \n",
    "        self.enc = Encoder(input_size=input_size, hidden_size=hidden_size, num_layers=self.num_layers, dropout=self.dropout)\n",
    "        \n",
    "        self.dec = Decoder(\n",
    "            input_size=latent_size,\n",
    "            output_size=input_size,\n",
    "            hidden_size=hidden_size,\n",
    "            dropout=self.dropout,\n",
    "            num_layers=self.num_layers,\n",
    "        )\n",
    "\n",
    "        self.fc21 = nn.Linear(self.hidden_size, self.latent_size)\n",
    "        self.fc22 = nn.Linear(self.hidden_size, self.latent_size)\n",
    "        self.fc3 = nn.Linear(self.latent_size, self.hidden_size)\n",
    "\n",
    "    def reparameterize(self, mu, logvar):\n",
    "        if self.training:\n",
    "            return mu + torch.randn(mu.shape).to(device)*torch.exp(0.5*logvar)\n",
    "        else:\n",
    "            return mu\n",
    "\n",
    "    def forward(self, x, lengths):\n",
    "        batch_size, seq_len, feature_dim = x.shape\n",
    "    \n",
    "        enc_output, enc_hidden = self.enc(x, lengths)\n",
    "    \n",
    "        enc_h = enc_hidden[-1].to(device)  \n",
    "    \n",
    "        mu = self.fc21(enc_h)\n",
    "        logvar = self.fc22(enc_h)\n",
    "        z = self.reparameterize(mu, logvar)\n",
    "        \n",
    "        h_ = self.fc3(z)\n",
    "        h_ = h_.unsqueeze(0)  \n",
    "        h_ = h_.repeat(self.dec.num_layers, 1, 1) \n",
    " \n",
    "        z = z.repeat(1, seq_len, 1)\n",
    "        z = z.view(batch_size, seq_len, self.latent_size).to(device)\n",
    "        \n",
    "        hidden = h_.contiguous()\n",
    "        x_hat, hidden = self.dec(z, hidden)\n",
    "    \n",
    "        return x_hat, mu, logvar"
   ]
  },
  {
   "cell_type": "code",
   "execution_count": 202,
   "id": "8fb6530e-3c25-4485-97ab-92fbaa85f8ae",
   "metadata": {},
   "outputs": [
    {
     "name": "stdout",
     "output_type": "stream",
     "text": [
      "Beginning training of anomaly scorer...\n",
      " Epoch 0 | Train: 3874.82 | Valid: 412.09\n",
      " Epoch 1 | Train: 2467.26 | Valid: 327.14\n",
      " Epoch 2 | Train: 2379.92 | Valid: 294.86\n",
      " Epoch 3 | Train: 2289.37 | Valid: 271.02\n",
      " Epoch 4 | Train: 2253.62 | Valid: 258.26\n",
      " Epoch 5 | Train: 2215.75 | Valid: 245.76\n",
      " Epoch 6 | Train: 2107.27 | Valid: 212.33\n",
      " Epoch 7 | Train: 2056.79 | Valid: 193.78\n",
      " Epoch 8 | Train: 1989.62 | Valid: 187.34\n",
      " Epoch 9 | Train: 1997.77 | Valid: 174.44\n"
     ]
    }
   ],
   "source": [
    "model = RNN_VAE()\n",
    "model.to(device)\n",
    "\n",
    "optimizer = torch.optim.Adam(model.parameters(),lr=1.e-4)\n",
    "\n",
    "#iterate through 10 training epochs\n",
    "validation_losses = []\n",
    "training_losses = []\n",
    "\n",
    "nepochs = 10\n",
    "\n",
    "print(\"Beginning training of contrastive RNN-VAE...\")\n",
    "for epoch in range(0, nepochs):\n",
    "    # train\n",
    "    model.train()\n",
    "    train_loss = 0\n",
    "    for x, y, _, lengths in train_loader:\n",
    "        x = x.to(device)\n",
    "        anchors, positives, negatives = select_triplets(x, y)\n",
    "        x_hat, mu, logvar = model(x, lengths)\n",
    "        loss = contrastive_elbo(x_hat, x, mu, logvar, anchors, positives, negatives)\n",
    "        train_loss += loss.item()\n",
    "        optimizer.zero_grad()\n",
    "        loss.backward()\n",
    "\n",
    "        # clip gradients to keep them at a reasonable size\n",
    "        torch.nn.utils.clip_grad_norm_(model.parameters(), max_norm=1.0)\n",
    "        \n",
    "        optimizer.step()\n",
    "\n",
    "    # validate\n",
    "    with torch.no_grad():\n",
    "        model.eval()\n",
    "        valid_loss = 0\n",
    "        for x, y, _, lengths in val_loader:\n",
    "            x = x.to(device)\n",
    "            anchors, positives, negatives = select_triplets(x, y)\n",
    "            x_hat, mu, logvar = model(x, lengths)\n",
    "            valid_loss += contrastive_elbo(x_hat, x, mu, logvar, anchors, positives, negatives)\n",
    "\n",
    "    validation_losses.append(valid_loss / len(val_loader.dataset))\n",
    "    training_losses.append(train_loss / len(train_loader.dataset))\n",
    "\n",
    "    print(f' Epoch {epoch} | Train: {train_loss / len(train_loader.dataset):.2f} | Valid: {valid_loss / len(val_loader.dataset):.2f}')"
   ]
  },
  {
   "cell_type": "markdown",
   "id": "58c43855-b676-42ec-9335-7275c059200f",
   "metadata": {},
   "source": [
    "Is our embedding space now more useful for pullling out anomalies? Let's find out, now with all light curves in the first test batch! "
   ]
  },
  {
   "cell_type": "code",
   "execution_count": 209,
   "id": "031ff228-634c-4e99-ad49-7a6d21625cff",
   "metadata": {},
   "outputs": [],
   "source": [
    "mu_list = []\n",
    "y_list = []\n",
    "\n",
    "with torch.no_grad():\n",
    "    model.eval()\n",
    "\n",
    "    for x, y, _, lengths in test_loader:\n",
    "        x = x.to(device)\n",
    "        x_hat, mu, logvar, _ = model(x, lengths)        \n",
    "        mu_list.append(mu)\n",
    "        y_list.append(y)\n",
    "\n",
    "mu_list = torch.cat(mu_list).cpu().numpy()\n",
    "y_list = torch.cat(y_list).cpu().numpy()"
   ]
  },
  {
   "cell_type": "code",
   "execution_count": 218,
   "id": "3b4a237d-997b-43f7-8cfb-a7f4e95b2926",
   "metadata": {},
   "outputs": [
    {
     "name": "stdout",
     "output_type": "stream",
     "text": [
      "Composition of labeled outliers: [('M-dwarf', 31), ('EB', 21), ('SNII', 19), ('RRL', 9), ('SN Ia', 6), ('SNIbc', 4), ('CaRT', 2), ('SLSN-I', 2), ('AGN', 2), ('Mira', 2), ('ILOT', 2)]\n",
      "Composition of labeled inliers: [('SN Ia', 53), ('SNII', 27), ('RRL', 10), ('SNIax', 3), ('EB', 3), ('SNIbc', 2), ('M-dwarf', 2)]\n"
     ]
    }
   ],
   "source": [
    "def getOutliers(y_list, outlier_scores, asc=False):\n",
    "    # get the names of the transients\n",
    "    y_names = np.vectorize(model_nums.get)(y_list)\n",
    "        \n",
    "    idx_sorted = np.argsort(outlier_scores)\n",
    "\n",
    "    #do larger numbers correspond to a higher anomaly score?\n",
    "    #if so, flip\n",
    "    if asc: \n",
    "        idx_sorted = idx_sorted[::-1]\n",
    "        \n",
    "    #get the top 100 outliers and the top 100 inliers\n",
    "    outliers = y_names[idx_sorted][0:100]\n",
    "    inliers = y_names[idx_sorted][-100:]\n",
    "    \n",
    "    c =  Counter(outliers)\n",
    "    c_ranked = [(i, c[i]) for i, count in c.most_common()]\n",
    "    print(\"Composition of labeled outliers:\",c_ranked)\n",
    "    \n",
    "    c =  Counter(inliers)\n",
    "    c_ranked = [(i, c[i]) for i, count in c.most_common()]\n",
    "    print(\"Composition of labeled inliers:\", c_ranked)\n",
    "    \n",
    "import hdbscan\n",
    "\n",
    "clusterer = hdbscan.HDBSCAN(min_cluster_size=5, gen_min_span_tree=True)\n",
    "clusterer.fit(mu_list)\n",
    "outlier_scores = clusterer.outlier_scores_\n",
    "\n",
    "getOutliers(y_list, outlier_scores, asc=True)"
   ]
  },
  {
   "cell_type": "markdown",
   "id": "8158c18f-5209-4c54-bb2f-a37ef3017c84",
   "metadata": {},
   "source": [
    "This is training over 10 epochs and not finding an anomaly score cutoff. Can you do better with a more sophisticated training routine? "
   ]
  }
 ],
 "metadata": {
  "kernelspec": {
   "display_name": "Python 3 (ipykernel)",
   "language": "python",
   "name": "python3"
  },
  "language_info": {
   "codemirror_mode": {
    "name": "ipython",
    "version": 3
   },
   "file_extension": ".py",
   "mimetype": "text/x-python",
   "name": "python",
   "nbconvert_exporter": "python",
   "pygments_lexer": "ipython3",
   "version": "3.11.4"
  }
 },
 "nbformat": 4,
 "nbformat_minor": 5
}
